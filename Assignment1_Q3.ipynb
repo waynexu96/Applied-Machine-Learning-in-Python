{
 "cells": [
  {
   "cell_type": "code",
   "execution_count": null,
   "metadata": {
    "collapsed": true
   },
   "outputs": [],
   "source": [
    "'''\n",
    "Question 3\n",
    "Split the DataFrame into X (the data) and y (the labels).\n",
    "\n",
    "This function should return a tuple of length 2: (X, y), where\n",
    "\n",
    "X, a pandas DataFrame, has shape (569, 30)\n",
    "y, a pandas Series, has shape (569,).\n",
    "'''\n",
    "\n",
    "def answer_three():\n",
    "    cancerdf = answer_one()\n",
    "    \n",
    "    y=pd.Series(cancerdf['target'])\n",
    "    X=cancerdf.iloc[0:569,0:30]\n",
    "    \n",
    "    return X, y\n",
    "\n",
    "answer_three()"
   ]
  }
 ],
 "metadata": {
  "kernelspec": {
   "display_name": "Python 3",
   "language": "python",
   "name": "python3"
  },
  "language_info": {
   "codemirror_mode": {
    "name": "ipython",
    "version": 3
   },
   "file_extension": ".py",
   "mimetype": "text/x-python",
   "name": "python",
   "nbconvert_exporter": "python",
   "pygments_lexer": "ipython3",
   "version": "3.6.2"
  }
 },
 "nbformat": 4,
 "nbformat_minor": 1
}
