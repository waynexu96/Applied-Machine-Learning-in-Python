{
 "cells": [
  {
   "cell_type": "code",
   "execution_count": null,
   "metadata": {
    "collapsed": true
   },
   "outputs": [],
   "source": [
    "'''\n",
    "Question 2\n",
    "What is the class distribution? (i.e. how many instances of malignant (encoded 0) and how many benign (encoded 1)?)\n",
    "\n",
    "This function should return a Series named target of length 2 with integer values and index = ['malignant', 'benign']\n",
    "'''\n",
    "\n",
    "def answer_two():\n",
    "    cancerdf = answer_one()\n",
    "    \n",
    "    malignant=(cancerdf['target']==0).sum()\n",
    "    benign=(cancerdf['target']==1).sum()\n",
    "    data={'malignant':malignant,'benign':benign}\n",
    "    s=pd.Series(data,index=['malignant','benign'])\n",
    "    \n",
    "    return s\n",
    "answer_two()"
   ]
  }
 ],
 "metadata": {
  "kernelspec": {
   "display_name": "Python 3",
   "language": "python",
   "name": "python3"
  },
  "language_info": {
   "codemirror_mode": {
    "name": "ipython",
    "version": 3
   },
   "file_extension": ".py",
   "mimetype": "text/x-python",
   "name": "python",
   "nbconvert_exporter": "python",
   "pygments_lexer": "ipython3",
   "version": "3.6.2"
  }
 },
 "nbformat": 4,
 "nbformat_minor": 1
}
