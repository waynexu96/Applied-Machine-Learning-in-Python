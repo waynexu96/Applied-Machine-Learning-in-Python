{
 "cells": [
  {
   "cell_type": "code",
   "execution_count": null,
   "metadata": {
    "collapsed": true
   },
   "outputs": [],
   "source": [
    "'''\n",
    "Question 4\n",
    "Using train_test_split, split X and y into training and test sets (X_train, X_test, y_train, and y_test).\n",
    "\n",
    "Set the random number generator state to 0 using random_state=0 to make sure your results match the autograder!\n",
    "\n",
    "This function should return a tuple of length 4: (X_train, X_test, y_train, y_test), where\n",
    "\n",
    "X_train has shape (426, 30)\n",
    "X_test has shape (143, 30)\n",
    "y_train has shape (426,)\n",
    "y_test has shape (143,)\n",
    "'''\n",
    "\n",
    "from sklearn.model_selection import train_test_split\n",
    "\n",
    "def answer_four():\n",
    "    X, y = answer_three()\n",
    "    \n",
    "    X_train, X_test, y_train, y_test = train_test_split(X, y, random_state=0)\n",
    "    \n",
    "    return X_train, X_test, y_train, y_test\n",
    "\n",
    "answer_four()"
   ]
  }
 ],
 "metadata": {
  "kernelspec": {
   "display_name": "Python 3",
   "language": "python",
   "name": "python3"
  },
  "language_info": {
   "codemirror_mode": {
    "name": "ipython",
    "version": 3
   },
   "file_extension": ".py",
   "mimetype": "text/x-python",
   "name": "python",
   "nbconvert_exporter": "python",
   "pygments_lexer": "ipython3",
   "version": "3.6.2"
  }
 },
 "nbformat": 4,
 "nbformat_minor": 1
}
